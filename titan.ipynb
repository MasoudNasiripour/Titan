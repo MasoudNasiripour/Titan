{
 "cells": [
  {
   "cell_type": "code",
   "execution_count": 8,
   "metadata": {},
   "outputs": [],
   "source": [
    "import torch\n",
    "\n",
    "import torch.nn as nn\n",
    "import torch.nn.functional as F\n",
    "\n",
    "import torch.optim as optim\n",
    "\n",
    "\n",
    "torch.manual_seed(123);"
   ]
  },
  {
   "cell_type": "code",
   "execution_count": 6,
   "metadata": {},
   "outputs": [],
   "source": [
    "class Config:\n",
    "    def __init__(self, emb_dim):\n",
    "        self.emb_dim = emb_dim"
   ]
  },
  {
   "cell_type": "markdown",
   "metadata": {},
   "source": [
    "# Design long-term memory module in titan"
   ]
  },
  {
   "cell_type": "code",
   "execution_count": 183,
   "metadata": {},
   "outputs": [],
   "source": [
    "class LongTermMemory(nn.Module):\n",
    "\n",
    "    def __init__(self, config: Config):\n",
    "        super().__init__()\n",
    "\n",
    "        # these gonna update during test time\n",
    "        self.Wk = nn.Linear(config.emb_dim, config.emb_dim)\n",
    "        self.Wv = nn.Linear(config.emb_dim, config.emb_dim)\n",
    "\n",
    "        # this gonna update during training the hole architecture\n",
    "        self.Wq = nn.Linear(config.emb_dim, config.emb_dim)\n",
    "\n",
    "        # this is the memory part of our model to save input information in it's parameters\n",
    "        self.Mt = nn.Linear(config.emb_dim, config.emb_dim)\n",
    "        \"\"\"\n",
    "        in begining we just set this to zero. the reason is we don't have any information about \n",
    "        it in initial step and just want to make it to be equal to loss value\n",
    "        \"\"\"\n",
    "        self.St = 0        \n",
    "\n",
    "        # adaptive learnable coefficients\n",
    "        self.alpha = nn.Parameter(torch.rand(1)[0], requires_grad=True)\n",
    "        self.etha = nn.Parameter(torch.rand(1)[0], requires_grad=True)\n",
    "        self.tetha = nn.Parameter(torch.tensor([0.0])[0], requires_grad=True)\n",
    "\n",
    "        # optimizer and loss function that is going to use for updating memory in test time\n",
    "        self.loss_func = nn.MSELoss()\n",
    "        self.optimizer = optim.AdamW(self.parameters())\n",
    "        \n",
    "    \n",
    "    def memorize(self, X):\n",
    "        \"\"\"\n",
    "        This function is used for saving input data into ``memory`` parameters\n",
    "        for this to be end first we define previous ``memory`` and previous ``surprise``\n",
    "        after that for each token we update the ``memory`` parameters. \n",
    "        \"\"\"\n",
    "        with torch.autocast(device_type=\"cpu\", dtype=torch.float16):\n",
    "            for Xt in X:\n",
    "                # calculate the Key and Value matrices\n",
    "                Kt = self.Wk(Xt)\n",
    "                Vt = self.Wv(Xt)\n",
    "                # Use MeanSquaredError(MSE) for calculating the loss function\n",
    "                loss = self.loss_func(self.Mt(Kt), Vt)\n",
    "                # Calculate the surprising value\n",
    "                St = self.St * self.etha + (self.tetha * loss)\n",
    "                # Updating the memory weights based on loss and surprise value \n",
    "                self.Mt.weight.data = ((1 - self.alpha) * self.Mt.weight.data) + St\n",
    "                # optimize the model based on loss function to make Key and Value close to each other\n",
    "                loss.backward()\n",
    "                self.optimizer.step()\n",
    "        \n",
    "    def forward(self, Qt):\n",
    "        Qt = self.Wq(Qt)\n",
    "        return self.Mt(Qt)\n",
    "        \n",
    "\n",
    "class Core(nn.Module):\n",
    "    def __init__(self, config: Config):\n",
    "        super().__init__()\n",
    "        self.net = nn.Sequential()\n",
    "\n",
    "    def forward(self, x):\n",
    "        ...\n",
    "\n",
    "\n",
    "class PersistantMemory(nn.Module):\n",
    "    def __init__(self, config: Config):\n",
    "        super().__init__()\n",
    "\n",
    "    def forward(self, x):\n",
    "        ...\n",
    "\n",
    "\n",
    "class Titan(nn.Module):\n",
    "    def __init__(self, config: Config):\n",
    "        super().__init__()\n",
    "        self.memory = None\n",
    "\n",
    "    def forward(self, x):\n",
    "        ..."
   ]
  },
  {
   "cell_type": "code",
   "execution_count": 192,
   "metadata": {},
   "outputs": [],
   "source": [
    "config = Config(emb_dim=128)\n",
    "\n",
    "long_term_memory = LongTermMemory(config)\n",
    "\n",
    "example_input = torch.randn(5, 128)\n"
   ]
  },
  {
   "cell_type": "code",
   "execution_count": 193,
   "metadata": {},
   "outputs": [],
   "source": [
    "# update memory\n",
    "long_term_memory.memorize(example_input)"
   ]
  },
  {
   "cell_type": "code",
   "execution_count": 194,
   "metadata": {},
   "outputs": [
    {
     "data": {
      "text/plain": [
       "torch.Size([5, 128])"
      ]
     },
     "execution_count": 194,
     "metadata": {},
     "output_type": "execute_result"
    }
   ],
   "source": [
    "long_term_memory(example_input).shape"
   ]
  }
 ],
 "metadata": {
  "kernelspec": {
   "display_name": "Python 3 (ipykernel)",
   "language": "python",
   "name": "python3"
  },
  "language_info": {
   "codemirror_mode": {
    "name": "ipython",
    "version": 3
   },
   "file_extension": ".py",
   "mimetype": "text/x-python",
   "name": "python",
   "nbconvert_exporter": "python",
   "pygments_lexer": "ipython3",
   "version": "3.12.7"
  }
 },
 "nbformat": 4,
 "nbformat_minor": 4
}
